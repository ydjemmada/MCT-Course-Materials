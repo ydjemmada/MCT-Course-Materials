{
 "cells": [
  {
   "cell_type": "code",
   "execution_count": 5,
   "id": "daf412db-eedb-4092-923e-ba8bff2980f0",
   "metadata": {},
   "outputs": [
    {
     "data": {
      "image/png": "[encoded data removed]",
      "text/plain": [
       "<Figure size 432x288 with 1 Axes>"
      ]
     },
     "metadata": {
      "needs_background": "light"
     },
     "output_type": "display_data"
    }
   ],
   "source": [
    "import numpy as np\n",
    "import matplotlib.pyplot as plt\n",
    "def f(x: float): # Or use f= lambda x : np.cos(x) - x*np.exp(x)\n",
    "    return np.cos(x) - x*np.exp(x)\n",
    "x=np.arange(0,np.pi/2,0.001)\n",
    "y=f(x)\n",
    "plt.plot(x,y,color=\"r\")\n",
    "plt.hlines(y=0,xmin=0,xmax=np.pi/2)\n",
    "plt.show()"
   ]
  },
  {
   "cell_type": "markdown",
   "id": "aa68c5d4-d3fa-4ec1-bd96-9e2904b786ad",
   "metadata": {},
   "source": [
    "#### Bisection Method:\n",
    "Suppose $f$ is a continuous function deﬁned on the interval $[a, b]$,\n",
    "\n",
    "1. set $c=\\frac{(a+b)}{2}$\n",
    "2. if $f(c)=0$, return $c$\n",
    "3. if $f(c)\\neq 0$,\n",
    "    1. if $f(a)\\times f(c)>0$, set $a=c$\n",
    "    2. if $f(a)\\times f(c)<0$, set $b=c$\n",
    "4. if the stop criteria is `True` stop else goto (1)"
   ]
  },
  {
   "cell_type": "code",
   "execution_count": 18,
   "id": "cd6f317a-2727-45ad-9158-cb2022c9cbe1",
   "metadata": {},
   "outputs": [
    {
     "data": {
      "text/plain": [
       "[0.5177573651639169, 28]"
      ]
     },
     "execution_count": 18,
     "metadata": {},
     "output_type": "execute_result"
    }
   ],
   "source": [
    "def BSroot(a,b,eps):\n",
    "    n_iter=1;\n",
    "    c=(a+b)/2\n",
    "    while(abs(f(c))>eps):\n",
    "        if f(a)*f(c)<0:b=c\n",
    "        elif(f(a)*f(c)>0): a=c\n",
    "        c=(a+b)/2\n",
    "        n_iter+=1\n",
    "    return([c,n_iter])\n",
    "BSroot(0,np.pi/2,0.00000001)"
   ]
  },
  {
   "cell_type": "markdown",
   "id": "bac11604-a833-4eac-b35e-72b88df713cd",
   "metadata": {},
   "source": [
    "#### Newton-Raphson method\n",
    "Suppose $f$ is a continuous function deﬁned on the interval  $[𝑎,𝑏]$, and $f'$ it's derivative.\n",
    "1. Let $x_0$ is an initial approximation of the root of $f$, such that $f(x_0)\\neq 0$.\n",
    "2. Compute $x_n=x_{n-1}-\\frac{f(x_{n-1})}{f'(x_{n-1})}$ for $n \\geq 1$ Until we attend the stop critaria."
   ]
  },
  {
   "cell_type": "code",
   "execution_count": 16,
   "id": "9cee355e-a69c-45b1-8197-5b1980301de1",
   "metadata": {},
   "outputs": [],
   "source": [
    "def fprime(x): return -(np.sin(x)+(1+x)*np.exp(x))"
   ]
  },
  {
   "cell_type": "code",
   "execution_count": 13,
   "id": "55f60ffe-28f8-4834-b68b-eb061629cf4e",
   "metadata": {},
   "outputs": [],
   "source": [
    "def NRroot(x_old,eps):\n",
    "    x_new=x_old-f(x_old)/fprime(x_old)\n",
    "    n_iter=1\n",
    "    while(np.abs(x_new-x_old)>eps):\n",
    "        x_old=x_new\n",
    "        x_new=x_old-f(x_old)/fprime(x_old)\n",
    "        n_iter+=1\n",
    "    return [x_new,n_iter]"
   ]
  },
  {
   "cell_type": "code",
   "execution_count": 128,
   "id": "896c4401-026d-493b-b6ec-399ce6fa7cba",
   "metadata": {},
   "outputs": [
    {
     "data": {
      "text/plain": [
       "[0.5177573636824583, 5]"
      ]
     },
     "execution_count": 128,
     "metadata": {},
     "output_type": "execute_result"
    }
   ],
   "source": [
    "NRroot(np.pi/4,0.00000001)"
   ]
  },
  {
   "cell_type": "markdown",
   "id": "acc29ce3-1c64-47a7-8826-da15430f029f",
   "metadata": {},
   "source": [
    "#### Secant method\n",
    "Newton's method is an extremely powerful technique, but it has a major weakness: the need\n",
    "to know the value of the derivative of f at each approximation. To avoid the problem of the derivative evaluation in Newton's method, the secant method introduced as\n",
    "\n",
    "1. Let $x_0,x_1$ two initial approximations of the root of $f$.\n",
    "2. Compute $x_n=x_{n-1}-\\frac{f(x_{n-1})(x_{n-1}-x_{n-2})}{f(x_{n-1})-f(x_{n-2})}$ for $n \\geq 1$ Until we attend the stop critaria."
   ]
  },
  {
   "cell_type": "code",
   "execution_count": 19,
   "id": "c1124d4a-2e10-4966-9a44-2794ab913dc6",
   "metadata": {},
   "outputs": [],
   "source": [
    "def SCroot(x_old,eps):\n",
    "    x_new=x_old[1]-f(x_old[1])*(x_old[1]-x_old[0])/(f(x_old[1])-f(x_old[0]))\n",
    "    n_iter=1\n",
    "    while(np.abs(x_new-x_old[1])>eps):\n",
    "        x_old=[x_old[1],x_new]\n",
    "        x_new=x_old[1]-f(x_old[1])*(x_old[1]-x_old[0])/(f(x_old[1])-f(x_old[0]))\n",
    "        n_iter+=1\n",
    "    return [x_new,n_iter]"
   ]
  },
  {
   "cell_type": "code",
   "execution_count": 134,
   "id": "0863e589-ec91-426e-8915-68badeca0d1e",
   "metadata": {},
   "outputs": [
    {
     "data": {
      "text/plain": [
       "[0.5177573636824583, 7]"
      ]
     },
     "execution_count": 134,
     "metadata": {},
     "output_type": "execute_result"
    }
   ],
   "source": [
    "SCroot([0.,np.pi/4],0.00000001)"
   ]
  },
  {
   "cell_type": "code",
   "execution_count": 10,
   "id": "43614562-4125-454c-a8ac-9676fdae4211",
   "metadata": {},
   "outputs": [
    {
     "data": {
      "text/plain": [
       "[0.5177573665602934, 88]"
      ]
     },
     "execution_count": 10,
     "metadata": {},
     "output_type": "execute_result"
    }
   ],
   "source": [
    "from typing import Callable\n",
    "def g(x):\n",
    "    return np.cos(x)*np.exp(-x)\n",
    "def FProot(g:Callable[[float],float],x0,eps):\n",
    "    xn=g(x0)\n",
    "    n_iter=1\n",
    "    while (abs(f(xn))>eps):\n",
    "        x0=xn\n",
    "        xn=g(x0)\n",
    "        n_iter+=1\n",
    "    return([xn,n_iter])\n",
    "FProot(g,np.pi/4,10**(-8))"
   ]
  },
  {
   "cell_type": "code",
   "execution_count": 21,
   "id": "c2711d9e-9e3f-451c-936d-cd87043c041a",
   "metadata": {},
   "outputs": [],
   "source": [
    "from tabulate import tabulate\n",
    "n=[]\n",
    "for k in range(1,11):\n",
    "    eps=10**(-k)\n",
    "    n.append([eps,BSroot(0,np.pi/2,eps)[1],NRroot(np.pi/4,eps)[1],SCroot([0,np.pi/4],eps)[1]])"
   ]
  },
  {
   "cell_type": "code",
   "execution_count": 24,
   "id": "96a5eaf3-6723-4fdc-8053-8c21b55cf1d8",
   "metadata": {},
   "outputs": [
    {
     "name": "stdout",
     "output_type": "stream",
     "text": [
      "+--------+---------------------+----------------------+----------------------+\n",
      "|      e |   Nbr iterations BS |    Nbr iterations NR |    Nbr iterations FP |\n",
      "+========+=====================+======================+======================+\n",
      "| 0.1    |                   4 |                    2 |                    3 |\n",
      "+--------+---------------------+----------------------+----------------------+\n",
      "| 0.01   |                   6 |                    3 |                    4 |\n",
      "+--------+---------------------+----------------------+----------------------+\n",
      "| 0.001  |                  11 |                    4 |                    5 |\n",
      "+--------+---------------------+----------------------+----------------------+\n",
      "| 0.0001 |                  15 |                    4 |                    5 |\n",
      "+--------+---------------------+----------------------+----------------------+\n",
      "| 1e-05  |                  17 |                    4 |                    6 |\n",
      "+--------+---------------------+----------------------+----------------------+\n",
      "| 1e-06  |                  19 |                    5 |                    6 |\n",
      "+--------+---------------------+----------------------+----------------------+\n",
      "| 1e-07  |                  24 |                    5 |                    7 |\n",
      "+--------+---------------------+----------------------+----------------------+\n",
      "| 1e-08  |                  28 |                    5 |                    7 |\n",
      "+--------+---------------------+----------------------+----------------------+\n",
      "| 1e-09  |                  30 |                    5 |                    7 |\n",
      "+--------+---------------------+----------------------+----------------------+\n",
      "| 1e-10  |                  30 |                    5 |                    7 |\n",
      "+--------+---------------------+----------------------+----------------------+\n"
     ]
    }
   ],
   "source": [
    "print(tabulate(n, ['e','Nbr iterations BS',' Nbr iterations NR',' Nbr iterations FP'], \"grid\"))"
   ]
  },
  {
   "cell_type": "code",
   "execution_count": null,
   "id": "ffacd389-faf6-4203-8c13-8f6915fd6229",
   "metadata": {},
   "outputs": [],
   "source": []
  }
 ],
 "metadata": {
  "kernelspec": {
   "display_name": "Python 3 (ipykernel)",
   "language": "python",
   "name": "python3"
  },
  "language_info": {
   "codemirror_mode": {
    "name": "ipython",
    "version": 3
   },
   "file_extension": ".py",
   "mimetype": "text/x-python",
   "name": "python",
   "nbconvert_exporter": "python",
   "pygments_lexer": "ipython3",
   "version": "3.9.7"
  }
 },
 "nbformat": 4,
 "nbformat_minor": 5
}
