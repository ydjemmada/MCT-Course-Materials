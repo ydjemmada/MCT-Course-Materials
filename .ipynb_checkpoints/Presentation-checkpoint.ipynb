{
 "cells": [
  {
   "attachments": {},
   "cell_type": "markdown",
   "id": "700b33c0",
   "metadata": {},
   "source": [
    "Sopron University is a public university located in the town of Sopron, western borders of Hungary.\n",
    "![Sopron.png](Sopron.png \"Sopron University\")\n",
    "\n",
    "# Scientific results obtained during the stay\n",
    "## Definitions\n",
    "### Permutations\n",
    "### Partitions\n",
    "### Stirling numbers of the second kind\n",
    "### Ordered Bell numbers\n",
    "## History of order Bell numbers\n",
    "## Motivation of our work\n",
    "## Methodology\n",
    "## Some Results\n",
    "# Pedagogical practices observed during the stay\n",
    "# New teaching method "
   ]
  },
  {
   "cell_type": "code",
   "execution_count": null,
   "id": "1669d858",
   "metadata": {},
   "outputs": [],
   "source": []
  }
 ],
 "metadata": {
  "kernelspec": {
   "display_name": "Python 3 (ipykernel)",
   "language": "python",
   "name": "python3"
  },
  "language_info": {
   "codemirror_mode": {
    "name": "ipython",
    "version": 3
   },
   "file_extension": ".py",
   "mimetype": "text/x-python",
   "name": "python",
   "nbconvert_exporter": "python",
   "pygments_lexer": "ipython3",
   "version": "3.9.7"
  }
 },
 "nbformat": 4,
 "nbformat_minor": 5
}
