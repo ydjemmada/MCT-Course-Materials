{
 "cells": [
  {
   "cell_type": "markdown",
   "id": "e7594b99",
   "metadata": {},
   "source": [
    "<font size=4>\n",
    "    \n",
    "# Worksheet 0: Python review\n",
    "\n",
    "##### 1. Identify the errors in the follwing code then correct them \n",
    "\n",
    "````python\n",
    "#error_1\n",
    "print(\"Hello, world!)\n",
    "#error_2\n",
    "age = input(\"Enter your age: \")\n",
    "#error_3\n",
    "print(5 + \"2\")\n",
    "#error_4\n",
    "for i in range(10)\n",
    "    continue\n",
    "#error_5\n",
    "print(\"The sum of 2 and 2 is \" + 4)\n",
    "#error_6\n",
    "x = 5, y = 10\n",
    "#error_7\n",
    "numbers = [1, 2, 3, 4, 5]; print(numbers[5])\n",
    "#error_8\n",
    "if x == 5 and y = 10:\n",
    "    print(True)\n",
    "#error_9\n",
    "x = 10\n",
    "if x > 5\n",
    "    print(\"x is greater than 5\")\n",
    "else:\n",
    "    print(\"x is less than or equal to 5\")\n",
    "````\n",
    "#### 2. Write a program that verify if a year is a leap year or no.\n",
    "\n",
    "#### 3. Write a program that takes a number as input and prints out whether or not it is a prime number (only divisible by 1 and itself).\n",
    "\n",
    "#### 4. Write a program that takes a string as input and prints out the number of vowels in the string.\n",
    "\n",
    "#### 5. Write a program that takes a sentence as input and prints out the number of times each word appears in the sentence.\n",
    "\n",
    "#### 6. Write a program that takes a number as input and prints out its square root.\n",
    "\n",
    "#### 7. Write a program that takes a string as input and prints out the string with the words in reverse order.\n",
    "\n",
    "#### 8. Write a program that takes a number as input and prints out the digits in reverse order.\n",
    "\n",
    "#### 9. Write a program that takes a string as input and prints out the length of the longest palindrome in the string.\n",
    "\n",
    "#### 10. Write a program that takes a sentence as input and prints out the longest word in the sentence.\n",
    "\n",
    "#### 11. Write a program that takes a number as input and prints out whether or not it is a perfect number (the sum of its factors equals the number itself).\n",
    "\n",
    "#### 12. Write a function that takes a list of numbers as input and returns the sum of all the even numbers in the list.\n",
    "\n",
    "#### 13. Write a function that takes two strings as input and returns True if they are anagrams (contain the same letters in the same quantity), and False otherwise.\n",
    "\n",
    "#### 14. Write a function that takes a list of words as input and returns the longest word in the list.\n",
    "\n",
    "#### 15. Write a program that generates a random number between 1 and 100, and allows the user to guess the number. The program should tell the user if their guess is too high or too low, and should continue until the user correctly guesses the number.\n",
    "\n",
    "#### 16. Write a function that takes a string as input and returns the string with all the vowels removed.\n",
    "\n",
    "#### 17. Write a function that takes a list of numbers as input and returns a new list with all the duplicates removed.\n",
    "\n",
    "#### 18. Write a program that takes a list of numbers as input and sorts the list in descending order.\n",
    "\n",
    "#### 19. Write a function that takes a list of strings as input and returns a list of all the strings that are palindromes (words that are spelled the same forwards and backwards).\n",
    "</font>"
   ]
  },
  {
   "cell_type": "code",
   "execution_count": null,
   "id": "313839a5",
   "metadata": {},
   "outputs": [],
   "source": [
    "# 4. Write a program that takes a string as input and prints out the number of vowels in the string.\n",
    "s=input(\"Give a string\\n \")\n",
    "v_counts=0\n",
    "for letter in s:\n",
    "    if letter.lower() in \"aeiou\": v_counts+=1\n",
    "print(\"The number of vowels in '\", s, \"' is \",v_counts)"
   ]
  },
  {
   "cell_type": "code",
   "execution_count": null,
   "id": "7275a629",
   "metadata": {},
   "outputs": [],
   "source": [
    "#### 5. Write a program that takes a sentence as input and prints out the number of times each word appears in the sentence.\n",
    "sentence=input(\"Gives a sentence\\n\")\n",
    "sent_dict={}\n",
    "for word in set(sentence.split(' ')).difference({''}):\n",
    "    sent_dict[word]=sentence.split(' ').count(word)\n",
    "print(sent_dict)"
   ]
  },
  {
   "cell_type": "code",
   "execution_count": null,
   "id": "6c2fa3c3",
   "metadata": {},
   "outputs": [],
   "source": [
    "from math import sqrt\n",
    "#### 6. Write a program that takes a number as input and prints out its square root.\n",
    "number=float(input('gives a number please\\n'))\n",
    "print(sqrt(number))"
   ]
  },
  {
   "cell_type": "code",
   "execution_count": null,
   "id": "eef48ec0",
   "metadata": {},
   "outputs": [],
   "source": [
    "#### 7. Write a program that takes a string as input and prints out the string with the words in reverse order.\n",
    "sentence=input(\"Give a sentence\\n\")\n",
    "print(' '.join(sentence.split()[::-1]))"
   ]
  },
  {
   "cell_type": "code",
   "execution_count": null,
   "id": "e51ea8db",
   "metadata": {},
   "outputs": [],
   "source": [
    "#### 8. Write a program that takes a number as input and prints out the digits in reverse order.\n",
    "number=int(input(\"Please enter a number\\n\"))\n",
    "if(number<0):\n",
    "    sign=-1\n",
    "else:\n",
    "    sign=1\n",
    "sign*int(str(sign*number)[::-1])"
   ]
  },
  {
   "cell_type": "code",
   "execution_count": null,
   "id": "4deed902",
   "metadata": {},
   "outputs": [],
   "source": [
    "#### 9. Write a program that takes a string as input and prints out the length of the longest palindrome in the string.\n",
    "sentence=input('Enter a sentence\\n')\n",
    "long_pal=sentence[0]\n",
    "for i in range(len(sentence)):\n",
    "    for j in range(i+1,len(sentence)+1):\n",
    "        if sentence[i:j]==sentence[i:j][::-1]:\n",
    "            if len(long_pal)<len(sentence[i:j]):\n",
    "                long_pal=sentence[i:j]\n",
    "print(long_pal,len(long_pal))\n",
    "            "
   ]
  },
  {
   "cell_type": "code",
   "execution_count": null,
   "id": "16f84c6b",
   "metadata": {},
   "outputs": [],
   "source": [
    "#### 10. Write a program that takes a sentence as input and prints out the longest word in the sentence.\n",
    "sentence=input('Enter a sentence\\n')\n",
    "l_word=''\n",
    "for word in set(sentence.split()):\n",
    "    if len(word)>len(l_word):\n",
    "        l_word=word\n",
    "print(l_word, len(l_word))"
   ]
  },
  {
   "cell_type": "code",
   "execution_count": null,
   "id": "8c86fe9e",
   "metadata": {},
   "outputs": [],
   "source": [
    "#### 11. Write a program that takes a number as input and prints out whether or not it is a perfect number (the sum of its factors equals the number itself).\n",
    "number=int(input(\"Enter a number\\n\"))\n",
    "for j in range(number+1):\n",
    "    print(j,sum([i for i in range(1,int(j/2)+1) if j%i==0])==j)\n"
   ]
  },
  {
   "cell_type": "code",
   "execution_count": null,
   "id": "990c45ca",
   "metadata": {},
   "outputs": [],
   "source": [
    "\n",
    "#### 12. Write a function that takes a list of numbers as input and returns the sum of all the even numbers in the list.\n",
    "numbers=[int(num) for num in input('Gives a list of number\\n').split()]\n",
    "sum([number for number in numbers if number%2==0])"
   ]
  },
  {
   "cell_type": "code",
   "execution_count": null,
   "id": "3220b1bd",
   "metadata": {},
   "outputs": [],
   "source": [
    "\n",
    "#### 13. Write a function that takes two strings as input and returns True if they are anagrams (contain the same letters in the same quantity), and False otherwise.\n",
    "s1,s2=input('Enter two string\\n').split()\n",
    "anagram=True\n",
    "\n",
    "for letter in set(list(s1)):\n",
    "    if s1.count(letter)!=s2.count(letter):\n",
    "        anagram=False\n",
    "        break\n",
    "print(anagram)\n",
    "#or simply \n",
    "sorted(s1)==sorted(s2)"
   ]
  },
  {
   "cell_type": "code",
   "execution_count": null,
   "id": "3716b068",
   "metadata": {},
   "outputs": [],
   "source": [
    "\n",
    "#### 14. Write a function that takes a list of words as input and returns the longest word in the list.\n"
   ]
  },
  {
   "cell_type": "code",
   "execution_count": null,
   "id": "9c685603",
   "metadata": {},
   "outputs": [],
   "source": [
    "from random import randint\n",
    "#### 15. Write a program that generates a random number between 1 and 100, and allows the user to guess the number. The program should tell the user if their guess is too high or too low, and should continue until the user correctly guesses the number.\n",
    "number = randint(1,100)\n",
    "guess=False\n",
    "while(guess==False):\n",
    "    num=int(input(\"Guess the number\\n\"))\n",
    "    guess=(number==num)\n",
    "    if num> number:\n",
    "        print('your number is too high\\n')\n",
    "    elif(num<number):\n",
    "        print('your number is too low\\n')\n",
    "    else:\n",
    "        print(\"Yes the number is\",num)"
   ]
  },
  {
   "cell_type": "code",
   "execution_count": null,
   "id": "664a4526",
   "metadata": {},
   "outputs": [],
   "source": [
    "\n",
    "#### 16. Write a function that takes a string as input and returns the string with all the vowels removed.\n",
    "sentence=input('Enter a sentence\\n')\n",
    "for v in \"aeiuo\":\n",
    "    while v in sentence.lower():\n",
    "        sentence=sentence.replace(v.lower(),'')\n",
    "        sentence=sentence.replace(v.upper(),'')\n",
    "print(sentence)"
   ]
  },
  {
   "cell_type": "code",
   "execution_count": null,
   "id": "55c9f95c",
   "metadata": {},
   "outputs": [],
   "source": []
  },
  {
   "cell_type": "code",
   "execution_count": null,
   "id": "e4b4f485",
   "metadata": {},
   "outputs": [],
   "source": [
    "#### 17. Write a function that takes a list of numbers as input and returns a new list with all the duplicates removed.\n",
    "randint?"
   ]
  },
  {
   "cell_type": "code",
   "execution_count": null,
   "id": "0dccf628",
   "metadata": {},
   "outputs": [],
   "source": [
    "\n",
    "#### 18. Write a program that takes a list of numbers as input and sorts the list in descending order.\n"
   ]
  },
  {
   "cell_type": "code",
   "execution_count": null,
   "id": "2ebe6853",
   "metadata": {},
   "outputs": [],
   "source": [
    "\n",
    "#### 19. Write a function that takes a list of strings as input and returns a list of all the strings that are palindromes (words that are spelled the same forwards and backwards)."
   ]
  }
 ],
 "metadata": {
  "kernelspec": {
   "display_name": "Python 3 (ipykernel)",
   "language": "python",
   "name": "python3"
  },
  "language_info": {
   "codemirror_mode": {
    "name": "ipython",
    "version": 3
   },
   "file_extension": ".py",
   "mimetype": "text/x-python",
   "name": "python",
   "nbconvert_exporter": "python",
   "pygments_lexer": "ipython3",
   "version": "3.9.7"
  }
 },
 "nbformat": 4,
 "nbformat_minor": 5
}
