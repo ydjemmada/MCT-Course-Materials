{
 "cells": [
  {
   "cell_type": "markdown",
   "id": "ba6f4e68",
   "metadata": {},
   "source": [
    "### Palindrome\n",
    "```c\n",
    "#include<stdio.h>\n",
    "\n",
    "int pal(char S[], int start, int end) {\n",
    "    if (start - end >= 0) return 1;\n",
    "    if (S[start] != S[end]) return 0;\n",
    "    return pal(S, start + 1, end - 1);\n",
    "}\n",
    "\n",
    "int main() {\n",
    "\n",
    "    char S[100];\n",
    "    int n;\n",
    "\n",
    "    printf(\"Please, give the size of the word\\n\");\n",
    "    scanf(\"%d\", & n);\n",
    "    printf(\"Please, give your word\\n\");\n",
    "    scanf(\"%s\", & S);\n",
    "\n",
    "    if (pal(S, 0, n - 1) == 0) {\n",
    "        printf(\"%s is not palindrome\", S);\n",
    "    } else {\n",
    "        printf(\"%s is palindrome\", S);\n",
    "    }\n",
    "    return 0;\n",
    "}\n",
    "```\n",
    "### Hanoi Tower\n",
    "```c\n",
    "#include<stdio.h>\n",
    "\n",
    "void tower(int n, char A, char C, char B) {\n",
    "\n",
    "    if (n == 1) {\n",
    "        printf(\"Move from %c to %c\\n\", A, C);\n",
    "    } else {\n",
    "        tower(n - 1, A, B, C);\n",
    "        tower(1, A, C, B);\n",
    "        tower(n - 1, B, C, A);\n",
    "    }\n",
    "}\n",
    "\n",
    "int main() {\n",
    "    printf(\"Solution of Hanoi tower problem\\n\");\n",
    "    int n;\n",
    "    printf(\"Please give the number of disks\\n\");\n",
    "    scanf(\"%d\", & n);\n",
    "    tower(n, 'A', 'C', 'B');\n",
    "}\n",
    "```"
   ]
  },
  {
   "cell_type": "code",
   "execution_count": null,
   "id": "318f0913",
   "metadata": {},
   "outputs": [],
   "source": []
  }
 ],
 "metadata": {
  "kernelspec": {
   "display_name": "Python 3 (ipykernel)",
   "language": "python",
   "name": "python3"
  },
  "language_info": {
   "codemirror_mode": {
    "name": "ipython",
    "version": 3
   },
   "file_extension": ".py",
   "mimetype": "text/x-python",
   "name": "python",
   "nbconvert_exporter": "python",
   "pygments_lexer": "ipython3",
   "version": "3.9.7"
  }
 },
 "nbformat": 4,
 "nbformat_minor": 5
}
