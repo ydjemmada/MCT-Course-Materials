{
 "cells": [
  {
   "cell_type": "code",
   "execution_count": 1,
   "id": "d09879be",
   "metadata": {},
   "outputs": [
    {
     "name": "stdout",
     "output_type": "stream",
     "text": [
      "/home/mathxro\n"
     ]
    }
   ],
   "source": [
    "cd .."
   ]
  },
  {
   "cell_type": "code",
   "execution_count": null,
   "id": "721e7073",
   "metadata": {},
   "outputs": [],
   "source": []
  },
  {
   "cell_type": "code",
   "execution_count": 2,
   "id": "ce9b1126",
   "metadata": {},
   "outputs": [
    {
     "name": "stdout",
     "output_type": "stream",
     "text": [
      "/home\n"
     ]
    }
   ],
   "source": [
    "cd .."
   ]
  },
  {
   "cell_type": "code",
   "execution_count": 3,
   "id": "5d8e3dbd",
   "metadata": {},
   "outputs": [
    {
     "name": "stdout",
     "output_type": "stream",
     "text": [
      "/\n"
     ]
    }
   ],
   "source": [
    "cd .."
   ]
  },
  {
   "cell_type": "code",
   "execution_count": 4,
   "id": "414380d9",
   "metadata": {},
   "outputs": [
    {
     "name": "stdout",
     "output_type": "stream",
     "text": [
      "0       \u001b[0m\u001b[01;34mdev\u001b[0m/        \u001b[01;32minstall-script.sh\u001b[0m*  \u001b[01;36mlibx32\u001b[0m@      \u001b[01;34mopt\u001b[0m/   \u001b[01;36msbin\u001b[0m@  \u001b[30;42mtmp\u001b[0m/\r\n",
      "\u001b[01;36mbin\u001b[0m@    \u001b[01;34mDownloads\u001b[0m/  \u001b[01;36mlib\u001b[0m@                \u001b[01;34mlost+found\u001b[0m/  \u001b[01;34mproc\u001b[0m/  \u001b[01;34msnap\u001b[0m/  \u001b[01;34musr\u001b[0m/\r\n",
      "\u001b[01;34mboot\u001b[0m/   \u001b[01;34metc\u001b[0m/        \u001b[01;36mlib32\u001b[0m@              \u001b[01;34mmedia\u001b[0m/       \u001b[01;34mroot\u001b[0m/  \u001b[01;34msrv\u001b[0m/   \u001b[01;34mvar\u001b[0m/\r\n",
      "\u001b[01;34mcdrom\u001b[0m/  \u001b[01;34mhome\u001b[0m/       \u001b[01;36mlib64\u001b[0m@              \u001b[01;34mmnt\u001b[0m/         \u001b[01;34mrun\u001b[0m/   \u001b[01;34msys\u001b[0m/\r\n"
     ]
    }
   ],
   "source": [
    "ls"
   ]
  },
  {
   "cell_type": "code",
   "execution_count": 5,
   "id": "b034ca48",
   "metadata": {},
   "outputs": [
    {
     "name": "stdout",
     "output_type": "stream",
     "text": [
      "/home/mathxro/MCT\n"
     ]
    }
   ],
   "source": [
    "cd home/mathxro/MCT/\n"
   ]
  },
  {
   "cell_type": "code",
   "execution_count": 14,
   "id": "28984e9f",
   "metadata": {},
   "outputs": [
    {
     "name": "stdout",
     "output_type": "stream",
     "text": [
      "/home/mathxro/anaconda3\n"
     ]
    }
   ],
   "source": [
    "cd anaconda3/"
   ]
  },
  {
   "cell_type": "code",
   "execution_count": 15,
   "id": "2882b81e",
   "metadata": {},
   "outputs": [
    {
     "data": {
      "text/plain": [
       "'/home/mathxro/anaconda3'"
      ]
     },
     "execution_count": 15,
     "metadata": {},
     "output_type": "execute_result"
    }
   ],
   "source": [
    "pwd"
   ]
  },
  {
   "cell_type": "code",
   "execution_count": 16,
   "id": "38f24d3b",
   "metadata": {},
   "outputs": [],
   "source": [
    "f=open(\"/home/mathxro/MCT/example.txt\",'r')"
   ]
  },
  {
   "cell_type": "code",
   "execution_count": 17,
   "id": "64c70929",
   "metadata": {},
   "outputs": [
    {
     "name": "stdout",
     "output_type": "stream",
     "text": [
      "/home/mathxro/MCT\n"
     ]
    }
   ],
   "source": [
    "cd ../MCT"
   ]
  },
  {
   "cell_type": "code",
   "execution_count": 23,
   "id": "5999788b",
   "metadata": {},
   "outputs": [
    {
     "name": "stdout",
     "output_type": "stream",
     "text": [
      "Andrei Z Broder,\n",
      "\n",
      "The r-Stirling numbers,\n",
      "\n",
      "Discrete Mathematics,\n",
      "\n",
      "Volume 49, Issue 3,\n",
      "\n",
      "1984,\n",
      "\n",
      "Pages 241-259,\n",
      "\n",
      "ISSN 0012-365X,\n",
      "\n",
      "https://doi.org/10.1016/0012-365X(84)90161-4.\n",
      "\n",
      "(http://www.sciencedirect.com/science/article/pii/0012365X84901614)\n",
      "\n",
      "Abstract: The r-Stirling numbers of the first and second kind count restricted permutations and respectively restricted partitions, the restriction being that the first r elements must be in distinct cycles and respectively distinct subsets. The combinatorial and algebraic properties of these numbers, which in most cases generalize similar properties of the regular Stirling numbers, are explored starting from the above definition.\n",
      "\n"
     ]
    }
   ],
   "source": [
    "f=open(\"example.txt\")\n",
    "for line in f:\n",
    "        print(line)"
   ]
  },
  {
   "cell_type": "code",
   "execution_count": 33,
   "id": "7581da81",
   "metadata": {},
   "outputs": [],
   "source": [
    "f=open(\"example1.txt\",'w+')\n",
    "f.writelines([\"Line 1\\n\",\"Line 2\\n\",\"Line 3\\n\"])\n",
    "    f.close()"
   ]
  },
  {
   "cell_type": "code",
   "execution_count": 35,
   "id": "bdeed64c",
   "metadata": {},
   "outputs": [
    {
     "name": "stdout",
     "output_type": "stream",
     "text": [
      "10\n",
      "20\n",
      "679\n",
      "659\n"
     ]
    }
   ],
   "source": [
    "#Binary files\n",
    "file = open(\"example.txt\", \"rb\")\n",
    "file.read(10)\n",
    "print(file.tell())\n",
    "file.seek(10,1) # move the file pointer to the 10th byte from the current position of the file\n",
    "print(file.tell())\n",
    "file.read()\n",
    "print(file.tell())\n",
    "file.seek(-20,2) # move the file pointer 20 bytes backwards from the end of the file\n",
    "print(file.tell())\n",
    "file.close()"
   ]
  },
  {
   "cell_type": "code",
   "execution_count": 36,
   "id": "98f680d8",
   "metadata": {},
   "outputs": [],
   "source": [
    "import os\n",
    "os.rename(\"example1.txt\",\"exam.txt\")"
   ]
  },
  {
   "cell_type": "code",
   "execution_count": 37,
   "id": "86d41df5",
   "metadata": {},
   "outputs": [],
   "source": [
    "os.remove(\"exam.txt\")"
   ]
  },
  {
   "cell_type": "code",
   "execution_count": null,
   "id": "db6f8723",
   "metadata": {},
   "outputs": [],
   "source": []
  }
 ],
 "metadata": {
  "kernelspec": {
   "display_name": "Python 3 (ipykernel)",
   "language": "python",
   "name": "python3"
  },
  "language_info": {
   "codemirror_mode": {
    "name": "ipython",
    "version": 3
   },
   "file_extension": ".py",
   "mimetype": "text/x-python",
   "name": "python",
   "nbconvert_exporter": "python",
   "pygments_lexer": "ipython3",
   "version": "3.9.7"
  }
 },
 "nbformat": 4,
 "nbformat_minor": 5
}
