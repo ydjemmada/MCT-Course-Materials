{
 "cells": [
  {
   "cell_type": "code",
   "execution_count": 86,
   "id": "19a97b27",
   "metadata": {},
   "outputs": [
    {
     "name": "stdout",
     "output_type": "stream",
     "text": [
      "[1 2 3]\n",
      "[1 2 3]\n",
      "Shallow copy\n",
      "[0 2 3]\n",
      "[0 2 3]\n",
      "Deep copy\n",
      "[0 2 3]\n",
      "[0 2 4]\n"
     ]
    }
   ],
   "source": [
    "import numpy as np\n",
    "\n",
    "arr1 = np.array([1, 2, 3])\n",
    "arr2 = arr1.view()\n",
    "\n",
    "print(arr1)\n",
    "print(arr2)\n",
    "\n",
    "arr2[0] = 0\n",
    "print(\"Shallow copy\")\n",
    "print(arr1)\n",
    "print(arr2)\n",
    "\n",
    "arr2=arr1.copy()\n",
    "arr2[2] = 4\n",
    "print(\"Deep copy\")\n",
    "print(arr1)\n",
    "print(arr2)\n"
   ]
  },
  {
   "cell_type": "code",
   "execution_count": 46,
   "id": "04ed3ac0",
   "metadata": {},
   "outputs": [
    {
     "name": "stdout",
     "output_type": "stream",
     "text": [
      "266 µs ± 32.7 µs per loop (mean ± std. dev. of 7 runs, 1000 loops each)\n",
      "1.06 µs ± 6.04 ns per loop (mean ± std. dev. of 7 runs, 1000000 loops each)\n"
     ]
    }
   ],
   "source": [
    "%timeit [i**2 for i in range(1000)]\n",
    "a = np.arange(1000)\n",
    "%timeit a**2"
   ]
  },
  {
   "cell_type": "code",
   "execution_count": null,
   "id": "fe26ae00",
   "metadata": {},
   "outputs": [],
   "source": []
  }
 ],
 "metadata": {
  "kernelspec": {
   "display_name": "Python 3 (ipykernel)",
   "language": "python",
   "name": "python3"
  },
  "language_info": {
   "codemirror_mode": {
    "name": "ipython",
    "version": 3
   },
   "file_extension": ".py",
   "mimetype": "text/x-python",
   "name": "python",
   "nbconvert_exporter": "python",
   "pygments_lexer": "ipython3",
   "version": "3.9.7"
  }
 },
 "nbformat": 4,
 "nbformat_minor": 5
}
